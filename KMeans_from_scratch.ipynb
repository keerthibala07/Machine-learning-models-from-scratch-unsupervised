{
  "nbformat": 4,
  "nbformat_minor": 0,
  "metadata": {
    "colab": {
      "provenance": [],
      "authorship_tag": "ABX9TyO0yBnSYF38WZpcHcknaG54",
      "include_colab_link": true
    },
    "kernelspec": {
      "name": "python3",
      "display_name": "Python 3"
    },
    "language_info": {
      "name": "python"
    }
  },
  "cells": [
    {
      "cell_type": "markdown",
      "metadata": {
        "id": "view-in-github",
        "colab_type": "text"
      },
      "source": [
        "<a href=\"https://colab.research.google.com/github/keerthibala07/Machine-learning-models-from-scratch-unsupervised/blob/main/KMeans_from_scratch.ipynb\" target=\"_parent\"><img src=\"https://colab.research.google.com/assets/colab-badge.svg\" alt=\"Open In Colab\"/></a>"
      ]
    },
    {
      "cell_type": "code",
      "execution_count": 15,
      "metadata": {
        "id": "Oc5wrfN54wDY"
      },
      "outputs": [],
      "source": [
        "import pandas as pd\n",
        "import numpy as np\n"
      ]
    },
    {
      "cell_type": "markdown",
      "source": [
        "# Initialize Centroid\n"
      ],
      "metadata": {
        "id": "oWK6Xm_lEBH6"
      }
    },
    {
      "cell_type": "code",
      "source": [
        "def initialize_centriod(x,k):\n",
        "  indices=np.random.choice(len(x),k,replace=False)\n",
        "  return x[indices]\n"
      ],
      "metadata": {
        "id": "hMfNS07VCeZj"
      },
      "execution_count": 16,
      "outputs": []
    },
    {
      "cell_type": "markdown",
      "source": [
        "# Assign to clusters\n"
      ],
      "metadata": {
        "id": "r_heNAU8EGmB"
      }
    },
    {
      "cell_type": "code",
      "source": [
        "def assign_to_clusters(x,centroids):\n",
        "  distances=np.linalg.norm(x[:,np.newaxis]-centroids,axis=2)\n",
        "  return np.argmin(distances,axis=1)"
      ],
      "metadata": {
        "id": "a1w_EmXuDAJJ"
      },
      "execution_count": 17,
      "outputs": []
    },
    {
      "cell_type": "markdown",
      "source": [
        "# update centroid\n"
      ],
      "metadata": {
        "id": "HmN1Gx2DE0s2"
      }
    },
    {
      "cell_type": "code",
      "source": [
        "def update_centroids(x,labels,k):\n",
        "  centroids=np.array([x[labels==i].mean(axis=0) for i in range(k)])\n",
        "  return centroids"
      ],
      "metadata": {
        "id": "u1cqa_UVDf3o"
      },
      "execution_count": 18,
      "outputs": []
    },
    {
      "cell_type": "markdown",
      "source": [
        "\n",
        "#k_Means\n"
      ],
      "metadata": {
        "id": "LHTQf-9hFUzI"
      }
    },
    {
      "cell_type": "code",
      "source": [
        "def k_mean(x,k,max_iters=100):\n",
        "  centroids=initialize_centriod(x,k)\n",
        "  for _ in range(max_iters):\n",
        "    labels=assign_to_clusters(x,centroids)\n",
        "    new_centroids=update_centroids(x,labels,k)\n",
        "    if np.all(centroids==new_centroids):\n",
        "      break\n",
        "    centroids=new_centroids\n",
        "  return labels,centroids\n",
        "\n"
      ],
      "metadata": {
        "id": "yzYbI-iWEzhA"
      },
      "execution_count": 19,
      "outputs": []
    },
    {
      "cell_type": "code",
      "source": [
        "np.random.seed(42)\n",
        "x=np.concatenate([np.random.normal(loc=i,scale=1,size=(50,2)) for i in range(5)])"
      ],
      "metadata": {
        "id": "k5ej0rmWGJfn"
      },
      "execution_count": 20,
      "outputs": []
    },
    {
      "cell_type": "code",
      "source": [
        "x"
      ],
      "metadata": {
        "colab": {
          "base_uri": "https://localhost:8080/"
        },
        "id": "NYdfxASBHfQ-",
        "outputId": "ed8fcffb-abbb-4b31-8ecd-8400a907873e"
      },
      "execution_count": 21,
      "outputs": [
        {
          "output_type": "execute_result",
          "data": {
            "text/plain": [
              "array([[ 4.96714153e-01, -1.38264301e-01],\n",
              "       [ 6.47688538e-01,  1.52302986e+00],\n",
              "       [-2.34153375e-01, -2.34136957e-01],\n",
              "       [ 1.57921282e+00,  7.67434729e-01],\n",
              "       [-4.69474386e-01,  5.42560044e-01],\n",
              "       [-4.63417693e-01, -4.65729754e-01],\n",
              "       [ 2.41962272e-01, -1.91328024e+00],\n",
              "       [-1.72491783e+00, -5.62287529e-01],\n",
              "       [-1.01283112e+00,  3.14247333e-01],\n",
              "       [-9.08024076e-01, -1.41230370e+00],\n",
              "       [ 1.46564877e+00, -2.25776300e-01],\n",
              "       [ 6.75282047e-02, -1.42474819e+00],\n",
              "       [-5.44382725e-01,  1.10922590e-01],\n",
              "       [-1.15099358e+00,  3.75698018e-01],\n",
              "       [-6.00638690e-01, -2.91693750e-01],\n",
              "       [-6.01706612e-01,  1.85227818e+00],\n",
              "       [-1.34972247e-02, -1.05771093e+00],\n",
              "       [ 8.22544912e-01, -1.22084365e+00],\n",
              "       [ 2.08863595e-01, -1.95967012e+00],\n",
              "       [-1.32818605e+00,  1.96861236e-01],\n",
              "       [ 7.38466580e-01,  1.71368281e-01],\n",
              "       [-1.15648282e-01, -3.01103696e-01],\n",
              "       [-1.47852199e+00, -7.19844208e-01],\n",
              "       [-4.60638771e-01,  1.05712223e+00],\n",
              "       [ 3.43618290e-01, -1.76304016e+00],\n",
              "       [ 3.24083969e-01, -3.85082280e-01],\n",
              "       [-6.76922000e-01,  6.11676289e-01],\n",
              "       [ 1.03099952e+00,  9.31280119e-01],\n",
              "       [-8.39217523e-01, -3.09212376e-01],\n",
              "       [ 3.31263431e-01,  9.75545127e-01],\n",
              "       [-4.79174238e-01, -1.85658977e-01],\n",
              "       [-1.10633497e+00, -1.19620662e+00],\n",
              "       [ 8.12525822e-01,  1.35624003e+00],\n",
              "       [-7.20101216e-02,  1.00353290e+00],\n",
              "       [ 3.61636025e-01, -6.45119755e-01],\n",
              "       [ 3.61395606e-01,  1.53803657e+00],\n",
              "       [-3.58260391e-02,  1.56464366e+00],\n",
              "       [-2.61974510e+00,  8.21902504e-01],\n",
              "       [ 8.70470682e-02, -2.99007350e-01],\n",
              "       [ 9.17607765e-02, -1.98756891e+00],\n",
              "       [-2.19671888e-01,  3.57112572e-01],\n",
              "       [ 1.47789404e+00, -5.18270218e-01],\n",
              "       [-8.08493603e-01, -5.01757044e-01],\n",
              "       [ 9.15402118e-01,  3.28751110e-01],\n",
              "       [-5.29760204e-01,  5.13267433e-01],\n",
              "       [ 9.70775493e-02,  9.68644991e-01],\n",
              "       [-7.02053094e-01, -3.27662147e-01],\n",
              "       [-3.92108153e-01, -1.46351495e+00],\n",
              "       [ 2.96120277e-01,  2.61055272e-01],\n",
              "       [ 5.11345664e-03, -2.34587133e-01],\n",
              "       [-4.15370742e-01,  5.79354677e-01],\n",
              "       [ 6.57285483e-01,  1.97722731e-01],\n",
              "       [ 8.38714288e-01,  1.40405086e+00],\n",
              "       [ 2.88618590e+00,  1.17457781e+00],\n",
              "       [ 1.25755039e+00,  9.25554084e-01],\n",
              "       [-9.18771215e-01,  9.73486125e-01],\n",
              "       [ 1.06023021e+00,  3.46324211e+00],\n",
              "       [ 8.07639035e-01,  1.30154734e+00],\n",
              "       [ 9.65288230e-01, -1.68678038e-01],\n",
              "       [ 2.14282281e+00,  1.75193303e+00],\n",
              "       [ 1.79103195e+00,  9.06125452e-02],\n",
              "       [ 2.40279431e+00, -4.01851063e-01],\n",
              "       [ 1.58685709e+00,  3.19045563e+00],\n",
              "       [ 9.46367487e-03,  4.33702270e-01],\n",
              "       [ 1.09965137e+00,  4.96524346e-01],\n",
              "       [-5.50663431e-01,  1.06856297e+00],\n",
              "       [-6.23037137e-02,  1.47359243e+00],\n",
              "       [ 8.05757658e-02,  2.54993441e+00],\n",
              "       [ 2.16746708e-01,  6.77938484e-01],\n",
              "       [ 1.81351722e+00, -2.30864316e-01],\n",
              "       [ 1.22745993e+00,  2.30714275e+00],\n",
              "       [-6.07483235e-01,  1.18463386e+00],\n",
              "       [ 1.25988279e+00,  1.78182287e+00],\n",
              "       [-2.36950711e-01, -3.20456613e-01],\n",
              "       [ 1.52194157e+00,  1.29698467e+00],\n",
              "       [ 1.25049285e+00,  1.34644821e+00],\n",
              "       [ 3.19975278e-01,  1.23225370e+00],\n",
              "       [ 1.29307247e+00,  2.85648582e-01],\n",
              "       [ 2.86577451e+00,  1.47383292e+00],\n",
              "       [-1.91303497e-01,  1.65655361e+00],\n",
              "       [ 2.53183298e-02,  1.78708460e+00],\n",
              "       [ 2.15859558e+00,  1.79317682e-01],\n",
              "       [ 1.96337613e+00,  1.41278093e+00],\n",
              "       [ 1.82206016e+00,  2.89679298e+00],\n",
              "       [ 7.54611884e-01,  2.46263836e-01],\n",
              "       [ 1.10485570e-01,  1.84189715e-01],\n",
              "       [ 9.22898291e-01,  1.34115197e+00],\n",
              "       [ 1.27669080e+00,  1.82718325e+00],\n",
              "       [ 1.01300189e+00,  2.45353408e+00],\n",
              "       [ 7.35343167e-01,  3.72016917e+00],\n",
              "       [ 1.62566735e+00,  1.42842444e-01],\n",
              "       [-7.08924981e-02,  1.48247242e+00],\n",
              "       [ 7.76537215e-01,  1.71400049e+00],\n",
              "       [ 1.47323762e+00,  9.27171087e-01],\n",
              "       [ 1.53206282e-01, -5.14847225e-01],\n",
              "       [ 5.53485048e-01,  1.85639879e+00],\n",
              "       [ 1.21409374e+00, -2.45738779e-01],\n",
              "       [ 1.17318093e+00,  1.38531738e+00],\n",
              "       [ 1.16142564e-01,  1.15372511e+00],\n",
              "       [ 1.05820872e+00, -1.42970298e-01],\n",
              "       [ 2.35778736e+00,  2.56078453e+00],\n",
              "       [ 3.08305124e+00,  3.05380205e+00],\n",
              "       [ 6.22330632e-01,  1.06217496e+00],\n",
              "       [ 2.51503527e+00,  2.51378595e+00],\n",
              "       [ 2.51504769e+00,  5.85273149e+00],\n",
              "       [ 2.57089051e+00,  3.13556564e+00],\n",
              "       [ 2.95400176e+00,  2.65139125e+00],\n",
              "       [ 1.68473076e+00,  2.75896922e+00],\n",
              "       [ 1.22717479e+00,  1.76318139e+00],\n",
              "       [ 1.51463645e+00,  2.08187414e+00],\n",
              "       [ 4.31465857e+00,  1.32734807e-01],\n",
              "       [ 2.68626019e+00,  3.87284129e-01],\n",
              "       [ 1.52806813e+00,  3.08895060e+00],\n",
              "       [ 2.06428002e+00,  9.22255222e-01],\n",
              "       [ 1.28469629e+00,  2.67959775e+00],\n",
              "       [ 1.26963337e+00,  2.21645859e+00],\n",
              "       [ 2.04557184e+00,  1.34839965e+00],\n",
              "       [ 4.14394409e+00,  2.63391902e+00],\n",
              "       [-2.51425867e-02,  2.18645431e+00],\n",
              "       [ 1.33821354e+00,  2.85243333e+00],\n",
              "       [ 1.20747926e+00,  1.88526356e+00],\n",
              "       [ 2.50498728e+00,  2.86575519e+00],\n",
              "       [ 7.99703593e-01,  1.66549876e+00],\n",
              "       [ 1.52505469e+00,  1.34667077e+00],\n",
              "       [ 3.76545424e+00,  2.40498171e+00],\n",
              "       [ 7.39116046e-01,  2.91786195e+00],\n",
              "       [ 4.12215620e+00,  3.03246526e+00],\n",
              "       [ 4.80630034e-01,  1.51576593e+00],\n",
              "       [ 3.26691115e+00,  1.29233053e+00],\n",
              "       [ 2.44381943e+00,  2.77463405e+00],\n",
              "       [ 1.07306953e+00,  1.94047464e+00],\n",
              "       [-1.24126734e+00,  9.75612359e-01],\n",
              "       [ 1.74743185e+00,  7.52216818e-01],\n",
              "       [ 3.63241130e+00,  5.69858622e-01],\n",
              "       [ 1.55995551e+00,  2.13074058e+00],\n",
              "       [ 3.44127329e+00,  5.64137849e-01],\n",
              "       [ 3.16316375e+00,  2.01023306e+00],\n",
              "       [ 1.01849135e+00,  2.46210347e+00],\n",
              "       [ 2.19905970e+00,  1.39978312e+00],\n",
              "       [ 2.06980208e+00,  1.61468640e+00],\n",
              "       [ 2.11351735e+00,  2.66213067e+00],\n",
              "       [ 3.58601682e+00,  7.62184501e-01],\n",
              "       [ 4.13303337e+00,  4.79122005e-02],\n",
              "       [ 1.84821490e+00,  2.58831721e+00],\n",
              "       [ 2.28099187e+00,  1.37730048e+00],\n",
              "       [ 1.79187775e+00,  1.50699907e+00],\n",
              "       [ 1.41063524e+00,  2.84960210e+00],\n",
              "       [ 2.35701549e+00,  1.30709040e+00],\n",
              "       [ 2.89959988e+00,  2.30729952e+00],\n",
              "       [ 2.81286212e+00,  2.62962884e+00],\n",
              "       [ 2.17100499e+00,  2.43981896e+00],\n",
              "       [ 3.74729361e+00,  3.61037027e+00],\n",
              "       [ 2.97909841e+00,  3.11732738e+00],\n",
              "       [ 4.27766490e+00,  2.40842861e+00],\n",
              "       [ 3.54709738e+00,  2.79780735e+00],\n",
              "       [ 2.78231880e+00,  4.09877685e+00],\n",
              "       [ 3.82541635e+00,  3.81350964e+00],\n",
              "       [ 4.30547881e+00,  3.02100384e+00],\n",
              "       [ 3.68195297e+00,  2.68973324e+00],\n",
              "       [ 3.32416635e+00,  2.86985695e+00],\n",
              "       [ 3.09699596e+00,  3.59515703e+00],\n",
              "       [ 2.18177932e+00,  5.09238728e+00],\n",
              "       [ 1.99398262e+00,  1.78581139e+00],\n",
              "       [ 4.15811087e+00,  3.79166269e+00],\n",
              "       [ 3.62411982e+00,  3.62834551e+00],\n",
              "       [ 2.98775323e+00,  2.10274563e+00],\n",
              "       [ 3.07580456e+00,  2.32283829e+00],\n",
              "       [ 3.97511973e+00,  2.85294262e+00],\n",
              "       [ 2.17450280e+00,  2.67861416e+00],\n",
              "       [ 3.41293145e+00,  2.43627545e+00],\n",
              "       [ 2.17777960e+00,  3.24368721e+00],\n",
              "       [ 3.24496657e+00,  2.49305682e+00],\n",
              "       [ 2.52896169e+00,  3.23204994e+00],\n",
              "       [ 1.55191566e+00,  1.59253623e+00],\n",
              "       [ 2.28155578e+00,  2.78655285e+00],\n",
              "       [ 3.31090757e+00,  4.47535622e+00],\n",
              "       [ 3.85765962e+00,  2.84006147e+00],\n",
              "       [ 2.98098379e+00,  1.99747064e+00],\n",
              "       [ 2.98148686e+00,  2.71134136e+00],\n",
              "       [ 3.32271856e+00,  2.17276906e+00],\n",
              "       [ 3.51934651e+00,  4.53273891e+00],\n",
              "       [ 2.89123985e+00,  3.40171172e+00],\n",
              "       [ 3.69014399e+00,  2.59877953e+00],\n",
              "       [ 3.22409248e+00,  3.01259240e+00],\n",
              "       [ 3.09767610e+00,  2.22699022e+00],\n",
              "       [ 3.02451017e+00,  3.49799829e+00],\n",
              "       [ 4.45114361e+00,  3.95927083e+00],\n",
              "       [ 5.15318246e+00,  2.23265244e+00],\n",
              "       [ 3.87232064e+00,  3.18334201e+00],\n",
              "       [ 5.18980293e+00,  2.19170171e+00],\n",
              "       [ 2.16027816e+00,  2.40060735e+00],\n",
              "       [ 8.76104276e-01,  2.47424498e+00],\n",
              "       [ 2.24086734e+00,  3.15039379e+00],\n",
              "       [ 3.34175598e+00,  4.87617084e+00],\n",
              "       [ 3.95042384e+00,  2.42309634e+00],\n",
              "       [ 2.10158533e+00,  3.49191917e+00],\n",
              "       [ 1.67976679e+00,  4.83145877e+00],\n",
              "       [ 4.17944012e+00,  2.53082435e+00],\n",
              "       [ 1.28686547e+00,  4.35387237e+00],\n",
              "       [ 2.88546015e+00,  4.23781631e+00],\n",
              "       [ 2.40557234e+00,  3.40062498e+00],\n",
              "       [ 4.00524370e+00,  4.04698059e+00],\n",
              "       [ 3.54993453e+00,  4.62284993e+00],\n",
              "       [ 2.93237957e+00,  3.85762051e+00],\n",
              "       [ 4.12029563e+00,  4.51443883e+00],\n",
              "       [ 4.71161488e+00,  2.87535791e+00],\n",
              "       [ 2.46588583e+00,  5.27767682e+00],\n",
              "       [ 4.33231401e+00,  3.25151346e+00],\n",
              "       [ 5.55115198e+00,  4.11567463e+00],\n",
              "       [ 5.17929718e+00,  4.06751848e+00],\n",
              "       [ 6.06074792e+00,  5.75534084e+00],\n",
              "       [ 3.75103585e+00,  4.97157095e+00],\n",
              "       [ 4.64537595e+00,  5.36863156e+00],\n",
              "       [ 3.03507654e+00,  4.68605146e+00],\n",
              "       [ 5.05842449e+00,  2.24126051e+00],\n",
              "       [ 2.81674149e+00,  1.96076782e+00],\n",
              "       [ 3.73059317e+00,  4.71754226e+00],\n",
              "       [ 5.50235705e+00,  4.07409478e+00],\n",
              "       [ 5.62861555e+00,  2.61989854e+00],\n",
              "       [ 2.29661756e+00,  3.94445230e+00],\n",
              "       [ 4.38406545e+00,  3.96730525e+00],\n",
              "       [ 1.93255790e+00,  3.91087996e+00],\n",
              "       [ 2.69553050e+00,  4.66967255e+00],\n",
              "       [ 4.36659825e+00,  3.06012021e+00],\n",
              "       [ 3.48613308e+00,  2.94078648e+00],\n",
              "       [ 3.93732090e+00,  4.95514232e+00],\n",
              "       [ 3.01427395e+00,  4.50404652e+00],\n",
              "       [ 3.46974238e+00,  3.20712717e+00],\n",
              "       [ 3.89296964e+00,  2.96475768e+00],\n",
              "       [ 3.44635069e+00,  2.80212211e+00],\n",
              "       [ 5.96472513e+00,  4.03526355e+00],\n",
              "       [ 3.30027449e+00,  4.21397991e+00],\n",
              "       [ 3.88767195e+00,  3.77903040e+00],\n",
              "       [ 4.61416670e+00,  4.75750771e+00],\n",
              "       [ 3.46949885e+00,  3.42418176e+00],\n",
              "       [ 3.72494830e+00,  1.69807884e+00],\n",
              "       [ 2.48480894e+00,  5.36687427e+00],\n",
              "       [ 5.64496771e+00,  3.75096396e+00],\n",
              "       [ 4.57655696e+00,  4.31125015e+00],\n",
              "       [ 7.07888081e+00,  5.11957491e+00],\n",
              "       [ 3.87208241e+00,  3.04445956e+00],\n",
              "       [ 2.39355368e+00,  4.20346364e+00],\n",
              "       [ 3.24364925e+00,  2.57774629e+00],\n",
              "       [ 3.35342712e+00,  2.91845200e+00],\n",
              "       [ 5.68714164e+00,  4.88163976e+00],\n",
              "       [ 3.99202736e+00,  5.47994414e+00],\n",
              "       [ 4.07736831e+00,  3.13871580e+00],\n",
              "       [ 5.52312408e+00,  4.53891004e+00],\n",
              "       [ 2.96275385e+00,  3.80966132e+00],\n",
              "       [ 3.12438175e+00,  2.61720027e+00]])"
            ]
          },
          "metadata": {},
          "execution_count": 21
        }
      ]
    },
    {
      "cell_type": "code",
      "source": [
        "k=5\n",
        "labels,centroids=k_mean(x,k)"
      ],
      "metadata": {
        "id": "QcC0QaXvHf3y"
      },
      "execution_count": 22,
      "outputs": []
    },
    {
      "cell_type": "code",
      "source": [
        "import matplotlib.pyplot as plt\n",
        "plt.scatter(x[:,0],x[:,1],c=labels,cmap='viridis')\n",
        "plt.scatter(centroids[:,0],centroids[:,1],marker='X',s=50,c='red',label='centroids')\n",
        "plt.title(\"k-means\")\n",
        "plt.xlabel('x-axis')\n",
        "plt.ylabel('y-axis')\n",
        "plt.legend()\n",
        "plt.show()"
      ],
      "metadata": {
        "colab": {
          "base_uri": "https://localhost:8080/",
          "height": 472
        },
        "id": "MXbyKBPOIOuZ",
        "outputId": "a97e9f20-47f6-4d6a-d6e8-fe20b4a0e391"
      },
      "execution_count": 23,
      "outputs": [
        {
          "output_type": "display_data",
          "data": {
            "text/plain": [
              "<Figure size 640x480 with 1 Axes>"
            ],
            "image/png": "[encoded data removed]"
          },
          "metadata": {}
        }
      ]
    },
    {
      "cell_type": "code",
      "source": [],
      "metadata": {
        "id": "RMWuOA--JaGf"
      },
      "execution_count": 23,
      "outputs": []
    }
  ]
}